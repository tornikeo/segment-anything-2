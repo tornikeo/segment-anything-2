{
 "cells": [
  {
   "cell_type": "code",
   "execution_count": 2,
   "id": "8c56676c",
   "metadata": {},
   "outputs": [
    {
     "ename": "AttributeError",
     "evalue": "'av.video.codeccontext.VideoCodecContext' object has no attribute 'side_data'",
     "output_type": "error",
     "traceback": [
      "\u001b[0;31m---------------------------------------------------------------------------\u001b[0m",
      "\u001b[0;31mAttributeError\u001b[0m                            Traceback (most recent call last)",
      "Cell \u001b[0;32mIn[2], line 9\u001b[0m\n\u001b[1;32m      6\u001b[0m video_stream \u001b[38;5;241m=\u001b[39m \u001b[38;5;28mnext\u001b[39m(s \u001b[38;5;28;01mfor\u001b[39;00m s \u001b[38;5;129;01min\u001b[39;00m container\u001b[38;5;241m.\u001b[39mstreams \u001b[38;5;28;01mif\u001b[39;00m s\u001b[38;5;241m.\u001b[39mtype \u001b[38;5;241m==\u001b[39m \u001b[38;5;124m'\u001b[39m\u001b[38;5;124mvideo\u001b[39m\u001b[38;5;124m'\u001b[39m)\n\u001b[1;32m      8\u001b[0m \u001b[38;5;66;03m# This line will raise the AttributeError if 'side_data' does not exist\u001b[39;00m\n\u001b[0;32m----> 9\u001b[0m \u001b[38;5;28mprint\u001b[39m(\u001b[43mvideo_stream\u001b[49m\u001b[38;5;241;43m.\u001b[39;49m\u001b[43mcodec_context\u001b[49m\u001b[38;5;241;43m.\u001b[39;49m\u001b[43mside_data\u001b[49m)\n",
      "\u001b[0;31mAttributeError\u001b[0m: 'av.video.codeccontext.VideoCodecContext' object has no attribute 'side_data'"
     ]
    }
   ],
   "source": [
    "import av\n",
    "\n",
    "video_path = \"/home/tornikeo/Documents/personal/cdn/assets/investigative_ve/airport.mp4\"\n",
    "\n",
    "container = av.open(video_path)\n",
    "video_stream = next(s for s in container.streams if s.type == 'video')\n",
    "\n",
    "# This line will raise the AttributeError if 'side_data' does not exist\n",
    "print(video_stream.codec_context.side_data)"
   ]
  }
 ],
 "metadata": {
  "kernelspec": {
   "display_name": "Python 3",
   "language": "python",
   "name": "python3"
  },
  "language_info": {
   "codemirror_mode": {
    "name": "ipython",
    "version": 3
   },
   "file_extension": ".py",
   "mimetype": "text/x-python",
   "name": "python",
   "nbconvert_exporter": "python",
   "pygments_lexer": "ipython3",
   "version": "3.10.16"
  }
 },
 "nbformat": 4,
 "nbformat_minor": 5
}
